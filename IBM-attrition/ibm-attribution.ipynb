{
 "cells": [
  {
   "cell_type": "markdown",
   "metadata": {},
   "source": [
    "# 统计课题 #\n",
    "```\n",
    "  IBM公司员工各项数据评估\n",
    "  \n",
    "```\n",
    "\n",
    "| 参与人员 | 学号 | 职责 |\n",
    "|----------|------|------|\n",
    "| 傅龙文 | 16222010025 | |\n",
    "| 吉宇凯 | 16222010037 | |"
   ]
  },
  {
   "cell_type": "markdown",
   "metadata": {},
   "source": [
    "## 数据描述 ##\n",
    "```\n",
    "  IBM HR Analytics Employee Attrition & Performance\n",
    "  Predict attrition of your valuable employees\n",
    "  \n",
    "  数据来源 ： https://www.kaggle.com/pavansubhasht/ibm-hr-analytics-attrition-dataset\n",
    "  \n",
    "```"
   ]
  },
  {
   "cell_type": "markdown",
   "metadata": {},
   "source": [
    "## 包含的 Features ##\n",
    "\n",
    "| Feature | 说明 | | Feature | 说明 |\n",
    "|--------:|:-----|-|--------:|:-----|\n",
    "| Age | 年龄 || Attrition | 是否离职 |\n",
    "| BusinessTravel | 商旅频率| | DailyRate | 平均多少天商旅一次|\n",
    "| Department | 部门 | | DistanceFromHome | 离家的距离 |\n",
    "| Education | 教育程度 | | EducationField | 教育领域 |\n",
    "| EmployeeCount | | | EmployeeNumber | | \n",
    "| EnvironmentSatisfaction | 环境满意度 | | Gender | 性别 |\n",
    "| HourlyRate | 实际工时 | | JobInvolvement | 工作投入 |\n",
    "| JobLevel | 职级 | |JobRole | 职位 |\n",
    "| JobSatisfaction | 职位满意度 | | MaritalStatus| 婚姻状态 |\n",
    "| MonthlyIncome | 月收入 || MonthlyRate | 月率 |\n",
    "| NumCompaniesWorked | 工作个多少家公司 | | Over18 | 是否成年 |\n",
    "| OverTime | 是否超时工作 | | PercentSalaryHike | 工资上涨百分比 |\n",
    "| PerformanceRating | 绩效评定| | RelationshipSatisfaction | 关系满意度 |\n",
    "| StandardHours | 标准工时 | | StockOptionLevel | 股票期权的水平 |\n",
    "| TotalWorkingYears | 总工龄(年)| | TrainingTimesLastYear | 去年参与培训的时间（小时）|\n",
    "| WorkLifeBalance | 工作生活是否平衡 | | YearsAtCompany | 公司呆了多久 |\n",
    "| YearsInCurrentRole | 服役与当前职位的年数| | YearsSinceLastPromotion | 距离上次提升的年数|\n",
    "| YearsWithCurrManager | 服役与当前经理的年数| | | |"
   ]
  },
  {
   "cell_type": "markdown",
   "metadata": {},
   "source": [
    "## 特征的值说明 ##\n",
    "* Education\n",
    "  - 1 'Below College' \n",
    "  - 2 'College'\n",
    "  - 3 'Bachelor' \n",
    "  - 4 'Master'\n",
    "  - 5 'Doctor'\n",
    "\n",
    "* EnvironmentSatisfaction\n",
    "  - 1 'Low' \n",
    "  - 2 'Medium' \n",
    "  - 3 'High' \n",
    "  - 4 'Very High'\n",
    "\n",
    "* JobInvolvement \n",
    "  - 1 'Low' \n",
    "  - 2 'Medium' \n",
    "  - 3 'High' \n",
    "  - 4 'Very High'\n",
    "\n",
    "* JobSatisfaction \n",
    "  - 1 'Low' \n",
    "  - 2 'Medium' \n",
    "  - 3 'High' \n",
    "  - 4 'Very High'\n",
    "\n",
    "* PerformanceRating \n",
    "  - 1 'Low'\n",
    "  - 2 'Good' \n",
    "  - 3 'Excellent' \n",
    "  - 4 'Outstanding'\n",
    "\n",
    "* RelationshipSatisfaction \n",
    "  - 1 'Low' \n",
    "  - 2 'Medium' \n",
    "  - 3 'High' \n",
    "  - 4 'Very High'\n",
    "\n",
    "* WorkLifeBalance \n",
    "  - 1 'Bad' \n",
    "  - 2 'Good' \n",
    "  - 3 'Better' \n",
    "  - 4 'Best'\n",
    "\n",
    "\n"
   ]
  },
  {
   "cell_type": "markdown",
   "metadata": {},
   "source": [
    "## 特征删选 ##"
   ]
  }
 ],
 "metadata": {
  "kernelspec": {
   "display_name": "Python 3",
   "language": "python",
   "name": "python3"
  },
  "language_info": {
   "codemirror_mode": {
    "name": "ipython",
    "version": 3
   },
   "file_extension": ".py",
   "mimetype": "text/x-python",
   "name": "python",
   "nbconvert_exporter": "python",
   "pygments_lexer": "ipython3",
   "version": "3.6.1"
  },
  "toc": {
   "colors": {
    "hover_highlight": "#DAA520",
    "navigate_num": "#000000",
    "navigate_text": "#333333",
    "running_highlight": "#FF0000",
    "selected_highlight": "#FFD700",
    "sidebar_border": "#EEEEEE",
    "wrapper_background": "#FFFFFF"
   },
   "moveMenuLeft": true,
   "nav_menu": {
    "height": "102px",
    "width": "252px"
   },
   "navigate_menu": true,
   "number_sections": true,
   "sideBar": true,
   "threshold": 4,
   "toc_cell": false,
   "toc_section_display": "block",
   "toc_window_display": true,
   "widenNotebook": false
  }
 },
 "nbformat": 4,
 "nbformat_minor": 2
}
